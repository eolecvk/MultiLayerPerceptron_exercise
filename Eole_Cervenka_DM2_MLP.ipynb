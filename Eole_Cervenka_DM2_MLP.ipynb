{
 "cells": [
  {
   "cell_type": "code",
   "execution_count": null,
   "metadata": {
    "collapsed": true
   },
   "outputs": [],
   "source": [
    "def get_nn_inputs(training_df):\n",
    "    import pandas\n",
    "    \n",
    "    input_df = training_df[ [h for h in list(training_df) if h != 'Class'] ] # examples with attributes only\n",
    "    X = [tuple(r[1]) for r in input_df.iterrows()] # ...as a list of tuples\n",
    "    y = training_df['Class'].tolist() # list of labels for training examples\n",
    "    return X, y"
   ]
  },
  {
   "cell_type": "code",
   "execution_count": 1,
   "metadata": {
    "collapsed": true
   },
   "outputs": [],
   "source": [
    "layer_sizes_space = []\n",
    "layer_sizes_space.extend([tuple([i]) for i in range(2, 75)]) # 1 hidden layer\n",
    "layer_sizes_space.extend([tuple([i, j])\n",
    "                          for i in range(2, 75)\n",
    "                          for j in range(2, 75)])\n",
    "\n",
    "param_grid = {\n",
    "    \"hidden_layer_sizes\" : layer_sizes_space,\n",
    "    \"learning_rate\" : ['constant', 'invscaling', 'adaptive']\n",
    "}"
   ]
  },
  {
   "cell_type": "code",
   "execution_count": null,
   "metadata": {
    "collapsed": true
   },
   "outputs": [],
   "source": []
  }
 ],
 "metadata": {
  "kernelspec": {
   "display_name": "Python 3",
   "language": "python",
   "name": "python3"
  },
  "language_info": {
   "codemirror_mode": {
    "name": "ipython",
    "version": 3
   },
   "file_extension": ".py",
   "mimetype": "text/x-python",
   "name": "python",
   "nbconvert_exporter": "python",
   "pygments_lexer": "ipython3",
   "version": "3.6.3"
  }
 },
 "nbformat": 4,
 "nbformat_minor": 2
}
