{
 "cells": [
  {
   "cell_type": "code",
   "execution_count": 1,
   "metadata": {
    "collapsed": true
   },
   "outputs": [],
   "source": [
    "def pprint(in_dict):\n",
    "    \"\"\"\n",
    "    Print dict with indents\n",
    "    \"\"\"\n",
    "    import simplejson as json\n",
    "    print(json.dumps(in_dict, indent=2))\n",
    "    \n",
    "\n",
    "def save_json(in_dict, fpath):\n",
    "    \"\"\"\n",
    "    saves in_dict in json format to fpath\n",
    "    \"\"\"\n",
    "    import simplejson as json\n",
    "    with open(fpath, 'w') as fp:\n",
    "        json.dump(in_dict, fp)\n",
    "        \n",
    "def load_json(fpath):\n",
    "    \"\"\"\n",
    "    saves in_dict in json format to fpath\n",
    "    \"\"\"\n",
    "    import simplejson as json\n",
    "    with open(fpath, 'r') as fp:\n",
    "        out_dict = json.load(fp)\n",
    "    return out_dict\n",
    "\n",
    "def save_pickle(data, fpath):\n",
    "    import pickle\n",
    "    with open(\"/tmp/training.pkl\", \"wb\") as f:\n",
    "        pickle.dump(training_data, f)\n",
    "    print(\"(X, y) saved to '/tmp/training.pkl'\")\n",
    "\n",
    "def load_pickle(fpath=\"/tmp/training.pkl\"):\n",
    "    import pickle\n",
    "    with open(\"/tmp/training.pkl\", \"rb\") as f:\n",
    "        data = pickle.load(f)\n",
    "    return data"
   ]
  },
  {
   "cell_type": "code",
   "execution_count": null,
   "metadata": {
    "collapsed": true
   },
   "outputs": [],
   "source": []
  }
 ],
 "metadata": {
  "kernelspec": {
   "display_name": "Python 3",
   "language": "python",
   "name": "python3"
  },
  "language_info": {
   "codemirror_mode": {
    "name": "ipython",
    "version": 3
   },
   "file_extension": ".py",
   "mimetype": "text/x-python",
   "name": "python",
   "nbconvert_exporter": "python",
   "pygments_lexer": "ipython3",
   "version": "3.6.3"
  }
 },
 "nbformat": 4,
 "nbformat_minor": 2
}
