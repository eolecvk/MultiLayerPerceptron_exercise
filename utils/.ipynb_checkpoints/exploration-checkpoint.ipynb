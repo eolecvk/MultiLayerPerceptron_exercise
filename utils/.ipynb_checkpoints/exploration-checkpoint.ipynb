{
 "cells": [
  {
   "cell_type": "code",
   "execution_count": 5,
   "metadata": {
    "collapsed": true
   },
   "outputs": [],
   "source": []
  },
  {
   "cell_type": "code",
   "execution_count": 3,
   "metadata": {
    "collapsed": true
   },
   "outputs": [],
   "source": [
    "def attr_val_freq(input_df):\n",
    "    \"\"\"\n",
    "    returns a dict with attributes (and label) as keys\n",
    "    and frequency of categories in the records of input_df as values\n",
    "    \"\"\"\n",
    "    attr_dict = { attribut : {} for attribut in list(input_df) }\n",
    "\n",
    "    for row in input_df.iterrows():\n",
    "        for category, value in zip(list(input_df), row[1]):\n",
    "\n",
    "            if value in attr_dict[category].keys():\n",
    "                attr_dict[category][value] += 1\n",
    "            else:\n",
    "                attr_dict[category][value] = 1\n",
    "    \n",
    "    return attr_dict\n",
    "\n",
    "\n",
    "def attr_val_dict(input_df):\n",
    "    \"\"\"\n",
    "    returns a dict with attributes (and label), as keys;\n",
    "    and and list of corresponding possible values, as values\n",
    "    \"\"\"\n",
    "    freq = attr_val_freq(input_df)\n",
    "    \n",
    "    freq_dict = { \"{}\".format(k) : list(v.keys())\n",
    "                  for k, v in freq.items() }\n",
    "    \n",
    "    return freq_dict "
   ]
  },
  {
   "cell_type": "code",
   "execution_count": null,
   "metadata": {
    "collapsed": true
   },
   "outputs": [],
   "source": []
  }
 ],
 "metadata": {
  "kernelspec": {
   "display_name": "Python 3",
   "language": "python",
   "name": "python3"
  },
  "language_info": {
   "codemirror_mode": {
    "name": "ipython",
    "version": 3
   },
   "file_extension": ".py",
   "mimetype": "text/x-python",
   "name": "python",
   "nbconvert_exporter": "python",
   "pygments_lexer": "ipython3",
   "version": "3.6.3"
  }
 },
 "nbformat": 4,
 "nbformat_minor": 2
}
