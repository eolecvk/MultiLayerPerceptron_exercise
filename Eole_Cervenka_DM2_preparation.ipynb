{
 "cells": [
  {
   "cell_type": "code",
   "execution_count": 1,
   "metadata": {
    "collapsed": true
   },
   "outputs": [],
   "source": [
    "\n",
    "def remove_missing_values(df):\n",
    "    \"\"\"\n",
    "    Filter rows with missing value\n",
    "    \"\"\"\n",
    "    import pandas\n",
    "    \n",
    "    df.dropna(inplace=True)\n",
    "    \n",
    "    m = pd.Series(False, index=df.index) # Boolean indexing\n",
    "    m |= ( # ...to filter specific values\n",
    "    (df.node_caps == '?') &\n",
    "    (df.breast_quad == '?') &\n",
    "    (df.irradiat == 'NaN'))\n",
    "    df = df[~m]\n",
    "    return df\n",
    "\n",
    "\n",
    "def encode_df(input_df):\n",
    "    \"\"\"\n",
    "    Label encoding; categorical (str) variable to int\n",
    "    \"\"\"\n",
    "    from sklearn.preprocessing import LabelEncoder\n",
    "    lb = LabelEncoder() # use lb.inverse_transform(encoded_array) to decode\n",
    "    \n",
    "    # Encode categorical data to int values\n",
    "    df_encoded = (df\n",
    "                  .astype(str) # converts all values to str\n",
    "                  .apply(lb.fit_transform)) # encodes all values to int\n",
    "    \n",
    "    return df_encoded, lb"
   ]
  },
  {
   "cell_type": "code",
   "execution_count": null,
   "metadata": {
    "collapsed": true
   },
   "outputs": [],
   "source": []
  }
 ],
 "metadata": {
  "kernelspec": {
   "display_name": "Python 3",
   "language": "python",
   "name": "python3"
  },
  "language_info": {
   "codemirror_mode": {
    "name": "ipython",
    "version": 3
   },
   "file_extension": ".py",
   "mimetype": "text/x-python",
   "name": "python",
   "nbconvert_exporter": "python",
   "pygments_lexer": "ipython3",
   "version": "3.6.3"
  }
 },
 "nbformat": 4,
 "nbformat_minor": 2
}
