{
 "cells": [
  {
   "cell_type": "markdown",
   "metadata": {},
   "source": [
    "# DM2: \"Connexionism: backpropagation algorithm\"\n",
    "\n",
    "-----------------------------\n",
    "\n",
    "_Eole Cervenka, Nov 13th 2017_\n",
    "\n",
    "+ Python version: 3.6\n",
    "+ libraries: sklean, numpy, pandas\n",
    "+ dependencies:\n",
    "\n",
    "    + `Eole_Cervenka_DM2_preparation.ipynb`\n",
    "    + `Eole_Cervenka_DM2_exploration.ipynb`\n",
    "    + `Eole_Cervenka_DM2_MLP.ipynb`\n",
    "        \n",
    "+ Data:\n",
    "    + `data.csv` (cf Preparation section)\n",
    "    \n",
    "-----------------------------\n",
    "    \n",
    "## Part I - Breast cancer data"
   ]
  },
  {
   "cell_type": "markdown",
   "metadata": {},
   "source": [
    "### Preparation\n",
    "\n",
    "\n",
    "The input data in file `breast-cancer.arff` is converted to `.csv` formatted file: `data.csv` such as:\n",
    "\n",
    "```\n",
    "'age','menopause','tumor-size','inv-nodes','node-caps','deg-malig','breast','breast-quad','irradiat','Class'\n",
    "'40-49','premeno','15-19','0-2','yes','3','right','left_up','no','recurrence-events'\n",
    "...\n",
    "```"
   ]
  },
  {
   "cell_type": "markdown",
   "metadata": {},
   "source": [
    "## Preparation"
   ]
  },
  {
   "cell_type": "markdown",
   "metadata": {},
   "source": [
    "### helper functions"
   ]
  },
  {
   "cell_type": "code",
   "execution_count": 29,
   "metadata": {
    "collapsed": true
   },
   "outputs": [],
   "source": [
    "%run utils/helper_functions.ipynb"
   ]
  },
  {
   "cell_type": "code",
   "execution_count": 30,
   "metadata": {
    "collapsed": true
   },
   "outputs": [],
   "source": [
    "%run utils/preparation.ipynb"
   ]
  },
  {
   "cell_type": "code",
   "execution_count": 31,
   "metadata": {
    "collapsed": true
   },
   "outputs": [],
   "source": [
    "%run utils/exploration.ipynb"
   ]
  },
  {
   "cell_type": "code",
   "execution_count": 32,
   "metadata": {
    "collapsed": false
   },
   "outputs": [],
   "source": [
    "%run utils/MLP_utils.ipynb"
   ]
  },
  {
   "cell_type": "markdown",
   "metadata": {},
   "source": [
    "### data set\n",
    "\n",
    "I use the `pandas` library to load and manipulate the dataset."
   ]
  },
  {
   "cell_type": "code",
   "execution_count": 33,
   "metadata": {
    "collapsed": false
   },
   "outputs": [
    {
     "data": {
      "text/html": [
       "<div>\n",
       "<style scoped>\n",
       "    .dataframe tbody tr th:only-of-type {\n",
       "        vertical-align: middle;\n",
       "    }\n",
       "\n",
       "    .dataframe tbody tr th {\n",
       "        vertical-align: top;\n",
       "    }\n",
       "\n",
       "    .dataframe thead th {\n",
       "        text-align: right;\n",
       "    }\n",
       "</style>\n",
       "<table border=\"1\" class=\"dataframe\">\n",
       "  <thead>\n",
       "    <tr style=\"text-align: right;\">\n",
       "      <th></th>\n",
       "      <th>age</th>\n",
       "      <th>menopause</th>\n",
       "      <th>tumor_size</th>\n",
       "      <th>inv_nodes</th>\n",
       "      <th>node_caps</th>\n",
       "      <th>deg_malig</th>\n",
       "      <th>breast</th>\n",
       "      <th>breast_quad</th>\n",
       "      <th>irradiat</th>\n",
       "      <th>Class</th>\n",
       "    </tr>\n",
       "  </thead>\n",
       "  <tbody>\n",
       "    <tr>\n",
       "      <th>0</th>\n",
       "      <td>40-49</td>\n",
       "      <td>premeno</td>\n",
       "      <td>15-19</td>\n",
       "      <td>0-2</td>\n",
       "      <td>yes</td>\n",
       "      <td>3</td>\n",
       "      <td>right</td>\n",
       "      <td>left_up</td>\n",
       "      <td>no</td>\n",
       "      <td>recurrence-events</td>\n",
       "    </tr>\n",
       "    <tr>\n",
       "      <th>1</th>\n",
       "      <td>50-59</td>\n",
       "      <td>ge40</td>\n",
       "      <td>15-19</td>\n",
       "      <td>0-2</td>\n",
       "      <td>no</td>\n",
       "      <td>1</td>\n",
       "      <td>right</td>\n",
       "      <td>central</td>\n",
       "      <td>no</td>\n",
       "      <td>no-recurrence-events</td>\n",
       "    </tr>\n",
       "    <tr>\n",
       "      <th>2</th>\n",
       "      <td>50-59</td>\n",
       "      <td>ge40</td>\n",
       "      <td>35-39</td>\n",
       "      <td>0-2</td>\n",
       "      <td>no</td>\n",
       "      <td>2</td>\n",
       "      <td>left</td>\n",
       "      <td>ft_low</td>\n",
       "      <td>NaN</td>\n",
       "      <td>recurrence-events</td>\n",
       "    </tr>\n",
       "    <tr>\n",
       "      <th>3</th>\n",
       "      <td>40-49</td>\n",
       "      <td>premeno</td>\n",
       "      <td>35-39</td>\n",
       "      <td>0-2</td>\n",
       "      <td>yes</td>\n",
       "      <td>3</td>\n",
       "      <td>right</td>\n",
       "      <td>left_low</td>\n",
       "      <td>yes</td>\n",
       "      <td>no-recurrence-events</td>\n",
       "    </tr>\n",
       "    <tr>\n",
       "      <th>4</th>\n",
       "      <td>40-49</td>\n",
       "      <td>premeno</td>\n",
       "      <td>30-34</td>\n",
       "      <td>3-5</td>\n",
       "      <td>yes</td>\n",
       "      <td>2</td>\n",
       "      <td>left</td>\n",
       "      <td>right_up</td>\n",
       "      <td>no</td>\n",
       "      <td>recurrence-events</td>\n",
       "    </tr>\n",
       "  </tbody>\n",
       "</table>\n",
       "</div>"
      ],
      "text/plain": [
       "     age menopause tumor_size inv_nodes node_caps  deg_malig breast  \\\n",
       "0  40-49   premeno      15-19       0-2       yes          3  right   \n",
       "1  50-59      ge40      15-19       0-2        no          1  right   \n",
       "2  50-59      ge40      35-39       0-2        no          2   left   \n",
       "3  40-49   premeno      35-39       0-2       yes          3  right   \n",
       "4  40-49   premeno      30-34       3-5       yes          2   left   \n",
       "\n",
       "  breast_quad irradiat                 Class  \n",
       "0     left_up       no     recurrence-events  \n",
       "1     central       no  no-recurrence-events  \n",
       "2      ft_low      NaN     recurrence-events  \n",
       "3    left_low      yes  no-recurrence-events  \n",
       "4    right_up       no     recurrence-events  "
      ]
     },
     "execution_count": 33,
     "metadata": {},
     "output_type": "execute_result"
    }
   ],
   "source": [
    "import pandas as pd\n",
    "\n",
    "fpath = \"data.csv\"\n",
    "df = pd.read_csv(fpath, quotechar=\"'\")\n",
    "\n",
    "df.rename( columns={\n",
    "        'tumor-size': 'tumor_size',\n",
    "        'inv-nodes': 'inv_nodes',\n",
    "        'node-caps' : 'node_caps',\n",
    "        'deg-malig' : 'deg_malig',\n",
    "        'breast-quad' : 'breast_quad'\n",
    "    }, inplace=True)\n",
    "\n",
    "df.head()"
   ]
  },
  {
   "cell_type": "markdown",
   "metadata": {},
   "source": [
    "### Exploration"
   ]
  },
  {
   "cell_type": "code",
   "execution_count": 34,
   "metadata": {
    "collapsed": false
   },
   "outputs": [
    {
     "name": "stdout",
     "output_type": "stream",
     "text": [
      "attribute value-frequency:\n",
      "{\n",
      "  \"age\": {\n",
      "    \"40-49\": 90,\n",
      "    \"50-59\": 96,\n",
      "    \"60-69\": 57,\n",
      "    \"30-39\": 36,\n",
      "    \"70-79\": 6,\n",
      "    \"20-29\": 1\n",
      "  },\n",
      "  \"menopause\": {\n",
      "    \"premeno\": 150,\n",
      "    \"ge40\": 129,\n",
      "    \"lt40\": 7\n",
      "  },\n",
      "  \"tumor_size\": {\n",
      "    \"15-19\": 30,\n",
      "    \"35-39\": 19,\n",
      "    \"30-34\": 60,\n",
      "    \"25-29\": 54,\n",
      "    \"40-44\": 22,\n",
      "    \"10-14\": 28,\n",
      "    \"0-4\": 8,\n",
      "    \"20-24\": 50,\n",
      "    \"45-49\": 3,\n",
      "    \"50-54\": 8,\n",
      "    \"5-9\": 4\n",
      "  },\n",
      "  \"inv_nodes\": {\n",
      "    \"0-2\": 213,\n",
      "    \"3-5\": 36,\n",
      "    \"15-17\": 6,\n",
      "    \"6-8\": 17,\n",
      "    \"9-11\": 10,\n",
      "    \"24-26\": 1,\n",
      "    \"12-14\": 3\n",
      "  },\n",
      "  \"node_caps\": {\n",
      "    \"yes\": 56,\n",
      "    \"no\": 222,\n",
      "    \"?\": 8\n",
      "  },\n",
      "  \"deg_malig\": {\n",
      "    \"3\": 85,\n",
      "    \"1\": 71,\n",
      "    \"2\": 130\n",
      "  },\n",
      "  \"breast\": {\n",
      "    \"right\": 134,\n",
      "    \"left\": 152\n",
      "  },\n",
      "  \"breast_quad\": {\n",
      "    \"left_up\": 97,\n",
      "    \"central\": 21,\n",
      "    \"ft_low\": 1,\n",
      "    \"left_low\": 109,\n",
      "    \"right_up\": 33,\n",
      "    \"right_low\": 24,\n",
      "    \"?\": 1\n",
      "  },\n",
      "  \"irradiat\": {\n",
      "    \"no\": 217,\n",
      "    \"NaN\": 1,\n",
      "    \"yes\": 68\n",
      "  },\n",
      "  \"Class\": {\n",
      "    \"recurrence-events\": 85,\n",
      "    \"no-recurrence-events\": 201\n",
      "  }\n",
      "}\n"
     ]
    }
   ],
   "source": [
    "attr_dict = attr_val_freq(df)\n",
    "\n",
    "print(\"attribute value-frequency:\")\n",
    "pprint(attr_dict)"
   ]
  },
  {
   "cell_type": "code",
   "execution_count": 35,
   "metadata": {
    "collapsed": true
   },
   "outputs": [],
   "source": [
    "# Attribut description\n",
    "# Histogram de frequence des valeurs possible par attribut\n",
    "\n",
    "# np.histogram...\n",
    "\n",
    "# import matplotlib.pyplot as plt\n",
    "# rng = np.random.RandomState(10)  # deterministic random data\n",
    "# a = np.hstack((rng.normal(size=1000),\n",
    "#                 rng.normal(loc=5, scale=2, size=1000)))\n",
    "\n",
    "# plt.hist(a, bins='auto')  # arguments are passed to np.histogram\n",
    "# plt.title(\"Histogram with 'auto' bins\")\n",
    "# plt.show()"
   ]
  },
  {
   "cell_type": "markdown",
   "metadata": {},
   "source": [
    "### Data preparation\n",
    "\n",
    "1. Deal with missing attributes\n",
    "2. Categorical values encoding"
   ]
  },
  {
   "cell_type": "markdown",
   "metadata": {},
   "source": [
    "#### Missing values\n",
    "\n",
    "Remove records with value `'?'` in attribute `node_caps` or `breast_quad`, or with value `'NaN'` in attribute `irradiat`"
   ]
  },
  {
   "cell_type": "code",
   "execution_count": 36,
   "metadata": {
    "collapsed": false
   },
   "outputs": [
    {
     "data": {
      "text/html": [
       "<div>\n",
       "<style scoped>\n",
       "    .dataframe tbody tr th:only-of-type {\n",
       "        vertical-align: middle;\n",
       "    }\n",
       "\n",
       "    .dataframe tbody tr th {\n",
       "        vertical-align: top;\n",
       "    }\n",
       "\n",
       "    .dataframe thead th {\n",
       "        text-align: right;\n",
       "    }\n",
       "</style>\n",
       "<table border=\"1\" class=\"dataframe\">\n",
       "  <thead>\n",
       "    <tr style=\"text-align: right;\">\n",
       "      <th></th>\n",
       "      <th>age</th>\n",
       "      <th>menopause</th>\n",
       "      <th>tumor_size</th>\n",
       "      <th>inv_nodes</th>\n",
       "      <th>node_caps</th>\n",
       "      <th>deg_malig</th>\n",
       "      <th>breast</th>\n",
       "      <th>breast_quad</th>\n",
       "      <th>irradiat</th>\n",
       "      <th>Class</th>\n",
       "    </tr>\n",
       "  </thead>\n",
       "  <tbody>\n",
       "    <tr>\n",
       "      <th>0</th>\n",
       "      <td>40-49</td>\n",
       "      <td>premeno</td>\n",
       "      <td>15-19</td>\n",
       "      <td>0-2</td>\n",
       "      <td>yes</td>\n",
       "      <td>3</td>\n",
       "      <td>right</td>\n",
       "      <td>left_up</td>\n",
       "      <td>no</td>\n",
       "      <td>recurrence-events</td>\n",
       "    </tr>\n",
       "    <tr>\n",
       "      <th>1</th>\n",
       "      <td>50-59</td>\n",
       "      <td>ge40</td>\n",
       "      <td>15-19</td>\n",
       "      <td>0-2</td>\n",
       "      <td>no</td>\n",
       "      <td>1</td>\n",
       "      <td>right</td>\n",
       "      <td>central</td>\n",
       "      <td>no</td>\n",
       "      <td>no-recurrence-events</td>\n",
       "    </tr>\n",
       "    <tr>\n",
       "      <th>3</th>\n",
       "      <td>40-49</td>\n",
       "      <td>premeno</td>\n",
       "      <td>35-39</td>\n",
       "      <td>0-2</td>\n",
       "      <td>yes</td>\n",
       "      <td>3</td>\n",
       "      <td>right</td>\n",
       "      <td>left_low</td>\n",
       "      <td>yes</td>\n",
       "      <td>no-recurrence-events</td>\n",
       "    </tr>\n",
       "    <tr>\n",
       "      <th>4</th>\n",
       "      <td>40-49</td>\n",
       "      <td>premeno</td>\n",
       "      <td>30-34</td>\n",
       "      <td>3-5</td>\n",
       "      <td>yes</td>\n",
       "      <td>2</td>\n",
       "      <td>left</td>\n",
       "      <td>right_up</td>\n",
       "      <td>no</td>\n",
       "      <td>recurrence-events</td>\n",
       "    </tr>\n",
       "    <tr>\n",
       "      <th>5</th>\n",
       "      <td>50-59</td>\n",
       "      <td>premeno</td>\n",
       "      <td>25-29</td>\n",
       "      <td>3-5</td>\n",
       "      <td>no</td>\n",
       "      <td>2</td>\n",
       "      <td>right</td>\n",
       "      <td>left_up</td>\n",
       "      <td>yes</td>\n",
       "      <td>no-recurrence-events</td>\n",
       "    </tr>\n",
       "  </tbody>\n",
       "</table>\n",
       "</div>"
      ],
      "text/plain": [
       "     age menopause tumor_size inv_nodes node_caps  deg_malig breast  \\\n",
       "0  40-49   premeno      15-19       0-2       yes          3  right   \n",
       "1  50-59      ge40      15-19       0-2        no          1  right   \n",
       "3  40-49   premeno      35-39       0-2       yes          3  right   \n",
       "4  40-49   premeno      30-34       3-5       yes          2   left   \n",
       "5  50-59   premeno      25-29       3-5        no          2  right   \n",
       "\n",
       "  breast_quad irradiat                 Class  \n",
       "0     left_up       no     recurrence-events  \n",
       "1     central       no  no-recurrence-events  \n",
       "3    left_low      yes  no-recurrence-events  \n",
       "4    right_up       no     recurrence-events  \n",
       "5     left_up      yes  no-recurrence-events  "
      ]
     },
     "execution_count": 36,
     "metadata": {},
     "output_type": "execute_result"
    }
   ],
   "source": [
    "df = remove_missing_values(df)\n",
    "df.head()"
   ]
  },
  {
   "cell_type": "markdown",
   "metadata": {},
   "source": [
    "#### Categorical values encoding"
   ]
  },
  {
   "cell_type": "code",
   "execution_count": 37,
   "metadata": {
    "collapsed": false
   },
   "outputs": [
    {
     "data": {
      "text/html": [
       "<div>\n",
       "<style scoped>\n",
       "    .dataframe tbody tr th:only-of-type {\n",
       "        vertical-align: middle;\n",
       "    }\n",
       "\n",
       "    .dataframe tbody tr th {\n",
       "        vertical-align: top;\n",
       "    }\n",
       "\n",
       "    .dataframe thead th {\n",
       "        text-align: right;\n",
       "    }\n",
       "</style>\n",
       "<table border=\"1\" class=\"dataframe\">\n",
       "  <thead>\n",
       "    <tr style=\"text-align: right;\">\n",
       "      <th></th>\n",
       "      <th>age</th>\n",
       "      <th>menopause</th>\n",
       "      <th>tumor_size</th>\n",
       "      <th>inv_nodes</th>\n",
       "      <th>node_caps</th>\n",
       "      <th>deg_malig</th>\n",
       "      <th>breast</th>\n",
       "      <th>breast_quad</th>\n",
       "      <th>irradiat</th>\n",
       "      <th>Class</th>\n",
       "    </tr>\n",
       "  </thead>\n",
       "  <tbody>\n",
       "    <tr>\n",
       "      <th>0</th>\n",
       "      <td>2</td>\n",
       "      <td>2</td>\n",
       "      <td>2</td>\n",
       "      <td>0</td>\n",
       "      <td>2</td>\n",
       "      <td>2</td>\n",
       "      <td>1</td>\n",
       "      <td>3</td>\n",
       "      <td>0</td>\n",
       "      <td>1</td>\n",
       "    </tr>\n",
       "    <tr>\n",
       "      <th>1</th>\n",
       "      <td>3</td>\n",
       "      <td>0</td>\n",
       "      <td>2</td>\n",
       "      <td>0</td>\n",
       "      <td>1</td>\n",
       "      <td>0</td>\n",
       "      <td>1</td>\n",
       "      <td>1</td>\n",
       "      <td>0</td>\n",
       "      <td>0</td>\n",
       "    </tr>\n",
       "    <tr>\n",
       "      <th>3</th>\n",
       "      <td>2</td>\n",
       "      <td>2</td>\n",
       "      <td>6</td>\n",
       "      <td>0</td>\n",
       "      <td>2</td>\n",
       "      <td>2</td>\n",
       "      <td>1</td>\n",
       "      <td>2</td>\n",
       "      <td>1</td>\n",
       "      <td>0</td>\n",
       "    </tr>\n",
       "    <tr>\n",
       "      <th>4</th>\n",
       "      <td>2</td>\n",
       "      <td>2</td>\n",
       "      <td>5</td>\n",
       "      <td>4</td>\n",
       "      <td>2</td>\n",
       "      <td>1</td>\n",
       "      <td>0</td>\n",
       "      <td>5</td>\n",
       "      <td>0</td>\n",
       "      <td>1</td>\n",
       "    </tr>\n",
       "    <tr>\n",
       "      <th>5</th>\n",
       "      <td>3</td>\n",
       "      <td>2</td>\n",
       "      <td>4</td>\n",
       "      <td>4</td>\n",
       "      <td>1</td>\n",
       "      <td>1</td>\n",
       "      <td>1</td>\n",
       "      <td>3</td>\n",
       "      <td>1</td>\n",
       "      <td>0</td>\n",
       "    </tr>\n",
       "  </tbody>\n",
       "</table>\n",
       "</div>"
      ],
      "text/plain": [
       "   age  menopause  tumor_size  inv_nodes  node_caps  deg_malig  breast  \\\n",
       "0    2          2           2          0          2          2       1   \n",
       "1    3          0           2          0          1          0       1   \n",
       "3    2          2           6          0          2          2       1   \n",
       "4    2          2           5          4          2          1       0   \n",
       "5    3          2           4          4          1          1       1   \n",
       "\n",
       "   breast_quad  irradiat  Class  \n",
       "0            3         0      1  \n",
       "1            1         0      0  \n",
       "3            2         1      0  \n",
       "4            5         0      1  \n",
       "5            3         1      0  "
      ]
     },
     "execution_count": 37,
     "metadata": {},
     "output_type": "execute_result"
    }
   ],
   "source": [
    "df_encoded, label_encoder = encode_df(df)\n",
    "df_encoded.head()"
   ]
  },
  {
   "cell_type": "markdown",
   "metadata": {},
   "source": [
    "### Attribute overview"
   ]
  },
  {
   "cell_type": "code",
   "execution_count": 38,
   "metadata": {
    "collapsed": false
   },
   "outputs": [
    {
     "name": "stdout",
     "output_type": "stream",
     "text": [
      "age [0, 1, 2, 3, 4, 5]\n",
      "menopause [0, 1, 2]\n",
      "tumor_size [0, 1, 2, 3, 4, 5, 6, 7, 8, 9, 10]\n",
      "inv_nodes [0, 1, 2, 3, 4, 5, 6]\n",
      "node_caps [0, 1, 2]\n",
      "deg_malig [0, 1, 2]\n",
      "breast [0, 1]\n",
      "breast_quad [0, 1, 2, 3, 4, 5]\n",
      "irradiat [0, 1]\n",
      "Class [0, 1]\n"
     ]
    }
   ],
   "source": [
    "val_dict = attr_val_dict(df_encoded)\n",
    "\n",
    "fpath = \"/tmp/DM2_attr_val_encoded.json\"\n",
    "save_json(val_dict, fpath)\n",
    "\n",
    "for k, v in val_dict.items(): print(k, sorted(v))"
   ]
  },
  {
   "cell_type": "markdown",
   "metadata": {},
   "source": [
    "### X, y (input matrix, label vector)"
   ]
  },
  {
   "cell_type": "code",
   "execution_count": 43,
   "metadata": {
    "collapsed": false
   },
   "outputs": [
    {
     "name": "stdout",
     "output_type": "stream",
     "text": [
      "X  --sample records:\n",
      "(2, 2, 2, 0, 2, 2, 1, 3, 0)\n",
      "(3, 0, 2, 0, 1, 0, 1, 1, 0)\n",
      "(2, 2, 6, 0, 2, 2, 1, 2, 1)\n",
      "(2, 2, 5, 4, 2, 1, 0, 5, 0)\n",
      "(3, 2, 4, 4, 1, 1, 1, 3, 1)\n",
      "(3, 0, 7, 0, 1, 2, 0, 3, 0)\n",
      "(2, 2, 1, 0, 1, 1, 0, 3, 0)\n",
      "(2, 2, 0, 0, 1, 1, 1, 4, 0)\n",
      "(2, 0, 7, 2, 2, 1, 1, 3, 1)\n",
      "(3, 2, 4, 0, 1, 1, 0, 2, 0)\n",
      "...\n",
      "\n",
      "y --sample labels\n",
      "[1, 0, 0, 1, 0, 0, 0, 0, 0, 0] \n",
      "\n",
      "(X, y) saved to '/tmp/training.pkl'\n"
     ]
    }
   ],
   "source": [
    "# matrix input X and label vector y\n",
    "X, y = get_nn_inputs(df_encoded)\n",
    "\n",
    "# Preview\n",
    "print(\"X  --sample records:\")\n",
    "for r in X[:10]:\n",
    "    print(r)\n",
    "print(\"...\")\n",
    "print(\"\\ny --sample labels\")\n",
    "print(y[:10], '\\n')\n",
    "\n",
    "# Save to pkl\n",
    "training_data = (X, y)\n",
    "save_pickle(training_data, '/tmp/training.pkl')"
   ]
  },
  {
   "cell_type": "markdown",
   "metadata": {},
   "source": [
    "\n",
    "\n"
   ]
  },
  {
   "cell_type": "code",
   "execution_count": 14,
   "metadata": {
    "collapsed": true
   },
   "outputs": [],
   "source": [
    "from sklearn.pipeline import Pipeline\n",
    "from sklearn.preprocessing import StandardScaler\n",
    "from sklearn.neural_network import MLPClassifier\n",
    "\n",
    "steps = [\n",
    "    ('scaler', StandardScaler()), # data scaling\n",
    "    ('clf', MLPClassifier()) # Multilayer Perceptron\n",
    "]\n",
    "\n",
    "pipeline = Pipeline(steps)"
   ]
  },
  {
   "cell_type": "markdown",
   "metadata": {},
   "source": [
    "### Hyper-parameters"
   ]
  },
  {
   "cell_type": "code",
   "execution_count": 15,
   "metadata": {
    "collapsed": false
   },
   "outputs": [],
   "source": [
    "import numpy as np\n",
    "from itertools import product\n",
    "\n",
    "max_layers = 5\n",
    "max_neurons = 20\n",
    "layer_space_list = []\n",
    "for i in range(1, max_layers+1):\n",
    "    i_layers = list(product(list(range(1, max_neurons+1)), repeat=i))\n",
    "    layer_space_list.extend(i_layers) # all config: i layers\n",
    "layer_space = tuple(layer_space_list)\n",
    "\n",
    "param_grid = {\n",
    "    'clf__hidden_layer_sizes' : layer_space, # (100,)\n",
    "    'clf__max_iter' : (600, 800, 1000),\n",
    "    'clf__activation' : ['identity', 'logistic', 'tanh', 'relu'], # 'relu'\n",
    "    'clf__solver' : ['lbfgs', 'sgd', 'adam'], #'adam'\n",
    "    'clf__alpha' : np.linspace(start=0.00001, stop=0.001, num=50), #0.0001\n",
    "    'clf__learning_rate' : ['constant', 'invscaling', 'adaptive'], #'constant'\n",
    "    'clf__learning_rate_init' : np.linspace(start=0.0001, stop=0.01, num=50), #0.001\n",
    "    'clf__momentum' : np.linspace(start=0.1, stop=1, num=10) #0.9\n",
    "}"
   ]
  },
  {
   "cell_type": "markdown",
   "metadata": {},
   "source": [
    "### Random search, cross-validated (k=10)"
   ]
  },
  {
   "cell_type": "code",
   "execution_count": 16,
   "metadata": {
    "collapsed": false
   },
   "outputs": [
    {
     "name": "stderr",
     "output_type": "stream",
     "text": [
      "/home/eolus/.local/lib/python3.6/site-packages/sklearn/neural_network/multilayer_perceptron.py:564: ConvergenceWarning: Stochastic Optimizer: Maximum iterations (600) reached and the optimization hasn't converged yet.\n",
      "  % self.max_iter, ConvergenceWarning)\n",
      "/home/eolus/.local/lib/python3.6/site-packages/sklearn/neural_network/multilayer_perceptron.py:564: ConvergenceWarning: Stochastic Optimizer: Maximum iterations (800) reached and the optimization hasn't converged yet.\n",
      "  % self.max_iter, ConvergenceWarning)\n",
      "/home/eolus/.local/lib/python3.6/site-packages/sklearn/neural_network/multilayer_perceptron.py:564: ConvergenceWarning: Stochastic Optimizer: Maximum iterations (600) reached and the optimization hasn't converged yet.\n",
      "  % self.max_iter, ConvergenceWarning)\n",
      "/home/eolus/.local/lib/python3.6/site-packages/sklearn/neural_network/multilayer_perceptron.py:564: ConvergenceWarning: Stochastic Optimizer: Maximum iterations (600) reached and the optimization hasn't converged yet.\n",
      "  % self.max_iter, ConvergenceWarning)\n",
      "/home/eolus/.local/lib/python3.6/site-packages/sklearn/neural_network/multilayer_perceptron.py:564: ConvergenceWarning: Stochastic Optimizer: Maximum iterations (600) reached and the optimization hasn't converged yet.\n",
      "  % self.max_iter, ConvergenceWarning)\n",
      "/home/eolus/.local/lib/python3.6/site-packages/sklearn/neural_network/multilayer_perceptron.py:564: ConvergenceWarning: Stochastic Optimizer: Maximum iterations (800) reached and the optimization hasn't converged yet.\n",
      "  % self.max_iter, ConvergenceWarning)\n",
      "/home/eolus/.local/lib/python3.6/site-packages/sklearn/neural_network/multilayer_perceptron.py:564: ConvergenceWarning: Stochastic Optimizer: Maximum iterations (800) reached and the optimization hasn't converged yet.\n",
      "  % self.max_iter, ConvergenceWarning)\n",
      "/home/eolus/.local/lib/python3.6/site-packages/sklearn/neural_network/multilayer_perceptron.py:564: ConvergenceWarning: Stochastic Optimizer: Maximum iterations (600) reached and the optimization hasn't converged yet.\n",
      "  % self.max_iter, ConvergenceWarning)\n",
      "/home/eolus/.local/lib/python3.6/site-packages/sklearn/neural_network/multilayer_perceptron.py:564: ConvergenceWarning: Stochastic Optimizer: Maximum iterations (600) reached and the optimization hasn't converged yet.\n",
      "  % self.max_iter, ConvergenceWarning)\n",
      "/home/eolus/.local/lib/python3.6/site-packages/sklearn/neural_network/multilayer_perceptron.py:564: ConvergenceWarning: Stochastic Optimizer: Maximum iterations (600) reached and the optimization hasn't converged yet.\n",
      "  % self.max_iter, ConvergenceWarning)\n",
      "/home/eolus/.local/lib/python3.6/site-packages/sklearn/neural_network/multilayer_perceptron.py:564: ConvergenceWarning: Stochastic Optimizer: Maximum iterations (600) reached and the optimization hasn't converged yet.\n",
      "  % self.max_iter, ConvergenceWarning)\n"
     ]
    },
    {
     "data": {
      "text/plain": [
       "RandomizedSearchCV(cv=10, error_score='raise',\n",
       "          estimator=Pipeline(memory=None,\n",
       "     steps=[('scaler', StandardScaler(copy=True, with_mean=True, with_std=True)), ('clf', MLPClassifier(activation='relu', alpha=0.0001, batch_size='auto', beta_1=0.9,\n",
       "       beta_2=0.999, early_stopping=False, epsilon=1e-08,\n",
       "       hidden_layer_sizes=(100,), learning_rate='constant',\n",
       "       learning_rat...=True, solver='adam', tol=0.0001, validation_fraction=0.1,\n",
       "       verbose=False, warm_start=False))]),\n",
       "          fit_params=None, iid=True, n_iter=100, n_jobs=8,\n",
       "          param_distributions={'clf__hidden_layer_sizes': ((1,), (2,), (3,), (4,), (5,), (6,), (7,), (8,), (9,), (10,), (11,), (12,), (13,), (14,), (15,), (16,), (17,), (18,), (19,), (20,), (1, 1), (1, 2), (1, 3), (1, 4), (1, 5), (1, 6), (1, 7), (1, 8), (1, 9), (1, 10), (1, 11), (1, 12), (1, 13), (1, 14), (1,... ,  0.01   ]), 'clf__momentum': array([ 0.1,  0.2,  0.3,  0.4,  0.5,  0.6,  0.7,  0.8,  0.9,  1. ])},\n",
       "          pre_dispatch='2*n_jobs', random_state=None, refit=True,\n",
       "          return_train_score='warn', scoring=None, verbose=0)"
      ]
     },
     "execution_count": 16,
     "metadata": {},
     "output_type": "execute_result"
    }
   ],
   "source": [
    "from sklearn.model_selection import RandomizedSearchCV\n",
    "\n",
    "random_search = RandomizedSearchCV(\n",
    "    pipeline,\n",
    "    param_distributions=param_grid,\n",
    "    n_iter=100, # search-iterations\n",
    "    n_jobs=8, # parallel jobs\n",
    "    refit=True,\n",
    "    cv=10, # 10-fold cross-validation\n",
    "    verbose=0,\n",
    "    random_state=None\n",
    ")\n",
    "\n",
    "random_search.fit(X, y)\n",
    "\n",
    "# .../.local/lib/python3.6/site-packages/sklearn/neural_network/multilayer_perceptron.py:564:\n",
    "# ConvergenceWarning: Stochastic Optimizer: Maximum iterations (200) reached and the optimization hasn't converged yet.\n",
    "#   % self.max_iter, ConvergenceWarning)"
   ]
  },
  {
   "cell_type": "markdown",
   "metadata": {},
   "source": [
    "### Retrieve best performing hyperparameters"
   ]
  },
  {
   "cell_type": "code",
   "execution_count": 18,
   "metadata": {
    "collapsed": false
   },
   "outputs": [
    {
     "name": "stdout",
     "output_type": "stream",
     "text": [
      "best params [score=0.7473684210526316]:\n",
      "{\n",
      "  \"activation\": \"identity\",\n",
      "  \"alpha\": 0.0007575510204081633,\n",
      "  \"hidden_layer_sizes\": [\n",
      "    13,\n",
      "    9,\n",
      "    10,\n",
      "    4,\n",
      "    8\n",
      "  ],\n",
      "  \"learning_rate\": \"invscaling\",\n",
      "  \"learning_rate_init\": 0.0077775510204081645,\n",
      "  \"max_iter\": 1000,\n",
      "  \"momentum\": 0.9,\n",
      "  \"solver\": \"adam\"\n",
      "}\n"
     ]
    }
   ],
   "source": [
    "best_params_pipeline = random_search.best_params_\n",
    "best_score_pipeline = random_search.best_score_\n",
    "\n",
    "clf_args = {\n",
    "    'activation' : best_params_pipeline['clf__activation'],\n",
    "    'alpha' : best_params_pipeline['clf__alpha'],\n",
    "    'hidden_layer_sizes' : best_params_pipeline['clf__hidden_layer_sizes'],\n",
    "    'learning_rate' : best_params_pipeline['clf__learning_rate'],\n",
    "    'learning_rate_init' : best_params_pipeline['clf__learning_rate_init'],\n",
    "    'max_iter' : best_params_pipeline['clf__max_iter'],\n",
    "    'max_iter' : best_params_pipeline['clf__max_iter'],\n",
    "    'momentum' : best_params_pipeline['clf__momentum'],\n",
    "    'solver' : best_params_pipeline['clf__solver']\n",
    "}\n",
    "\n",
    "print(\"best params [score={}]:\".format(best_score_pipeline))\n",
    "pprint(clf_args)"
   ]
  },
  {
   "cell_type": "markdown",
   "metadata": {},
   "source": [
    "### Discussion: choosing the K in K-fold\n",
    "\n",
    "**Le système apprend sur 10 sous-bases d’apprentissage et calcule à la fin les statistiques de performance.  \n",
    "Qu’en pensez-vous pour le problème étudié ?**\n",
    "\n",
    "\n",
    "We have to train a Neural Network (multi-layer perceptron) using a dataset of 286 labelled records with 9 attributes. The model is trying to predict based on a patient's attribute, whether they will have a recurrence of events (`Class : ['recurrence-events', 'no-recurrence-events']`).\n",
    "\n",
    "Note that in an actual use-case, this may imply that we are more interested in a model that minimizes the number of false-negatives (instances in which the model fails to predict a recurrence of events) than one that minimizes the overall expected error. For simplicity however, we use the expected error as the loss function.\n",
    "\n",
    "We use k-fold cross-validation to select the model which expected error is the smallest.  \n",
    "In k-fold cross-validation:  \n",
    "\"_The original sample is randomly partitioned into k equal sized subsamples.  \n",
    "Of the k subsamples, a single subsample is retained as the validation data for testing the model, and the remaining k − 1 subsamples are used as training data. The cross-validation process is then repeated k times (the folds), with each of the k subsamples used exactly once as the validation data. The k results from the folds can then be averaged to produce a single estimation. The advantage of this method over repeated random sub-sampling (see below) is that all observations are used for both training and validation, and each observation is used for validation exactly once. 10-fold cross-validation is commonly used,[7] but in general k remains an unfixed parameter._\"  \n",
    "[Wikipedia](https://en.wikipedia.org/wiki/Cross-validation_(statistics)\n",
    "\n",
    "We understand that the choice of defaulting the value of k to 10 is arbitrary.  \n",
    "The size of the training data impacts bias error and variance error.  \n",
    "The choice of k changes the size of each fold. (Provided `k` is a divisor of `dataset_size`:)\n",
    "```\n",
    "fold_size = dataset_size / k\n",
    "```\n",
    "\n",
    "We know that the increase size of the training set result in decrease of bias error and increase of variance error.\n",
    "\n",
    "Therefore, a larger k (and smaller fold size) results in smaller bias error (less underfitting) and larger variance error (more overfitting)."
   ]
  },
  {
   "cell_type": "markdown",
   "metadata": {},
   "source": [
    "**Graphical representation: learning curves**"
   ]
  },
  {
   "cell_type": "code",
   "execution_count": 44,
   "metadata": {
    "collapsed": false
   },
   "outputs": [
    {
     "data": {
      "image/png": "[encoded data removed]",
      "text/plain": [
       "<matplotlib.figure.Figure at 0x7f12c951fa58>"
      ]
     },
     "metadata": {},
     "output_type": "display_data"
    },
    {
     "data": {
      "image/png": "[encoded data removed]",
      "text/plain": [
       "<matplotlib.figure.Figure at 0x7f12c939cdd8>"
      ]
     },
     "metadata": {},
     "output_type": "display_data"
    },
    {
     "data": {
      "image/png": "[encoded data removed]",
      "text/plain": [
       "<matplotlib.figure.Figure at 0x7f12c9482b70>"
      ]
     },
     "metadata": {},
     "output_type": "display_data"
    },
    {
     "data": {
      "image/png": "[encoded data removed]",
      "text/plain": [
       "<matplotlib.figure.Figure at 0x7f12c9505400>"
      ]
     },
     "metadata": {},
     "output_type": "display_data"
    }
   ],
   "source": [
    "from sklearn.model_selection import learning_curve\n",
    "from sklearn.model_selection import KFold\n",
    "\n",
    "estimator = MLPClassifier(**clf_args)\n",
    "split_sizes = [2, 5, 10, 20]\n",
    "for K in split_sizes:\n",
    "    cv = KFold(n_splits=K, shuffle=False, random_state=None)\n",
    "    title = \"Learning Curves MLP, K={}\".format(K)\n",
    "    plot_learning_curve(estimator, title, X, y, ylim=(0.5, 1.01), cv=cv, n_jobs=4)\n",
    "plt.show()"
   ]
  },
  {
   "cell_type": "code",
   "execution_count": null,
   "metadata": {
    "collapsed": true
   },
   "outputs": [],
   "source": []
  }
 ],
 "metadata": {
  "kernelspec": {
   "display_name": "Python 3",
   "language": "python",
   "name": "python3"
  },
  "language_info": {
   "codemirror_mode": {
    "name": "ipython",
    "version": 3
   },
   "file_extension": ".py",
   "mimetype": "text/x-python",
   "name": "python",
   "nbconvert_exporter": "python",
   "pygments_lexer": "ipython3",
   "version": "3.6.3"
  }
 },
 "nbformat": 4,
 "nbformat_minor": 2
}
