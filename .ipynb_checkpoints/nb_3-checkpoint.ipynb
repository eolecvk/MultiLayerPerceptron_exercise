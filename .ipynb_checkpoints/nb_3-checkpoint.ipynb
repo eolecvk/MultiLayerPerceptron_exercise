{
 "cells": [
  {
   "cell_type": "markdown",
   "metadata": {},
   "source": [
    "### Generalization: parity function problem\n",
    "\n",
    "_Vous généraliserez l’étude précédente à des fonctions de 3 à 10 variables d’entrée pour lesquelles vous\n",
    "fournirez une base d’apprentissage sur le problème de la parité : la fonction retourne 1 quand le nombre de\n",
    "variables d’entrée prenant la valeur 1 est pair, et 0 sinon._"
   ]
  },
  {
   "cell_type": "code",
   "execution_count": 27,
   "metadata": {
    "collapsed": true
   },
   "outputs": [],
   "source": [
    "%run utils/preparation.ipynb"
   ]
  },
  {
   "cell_type": "code",
   "execution_count": 1,
   "metadata": {
    "collapsed": true
   },
   "outputs": [],
   "source": [
    "%run utils/exploration.ipynb"
   ]
  },
  {
   "cell_type": "code",
   "execution_count": 2,
   "metadata": {
    "collapsed": false
   },
   "outputs": [],
   "source": [
    "%run utils/MLP_utils.ipynb"
   ]
  },
  {
   "cell_type": "markdown",
   "metadata": {},
   "source": [
    "#### Data preparation\n",
    "\n",
    "We first load the attribute dictionary for the dataset."
   ]
  },
  {
   "cell_type": "code",
   "execution_count": 30,
   "metadata": {
    "collapsed": false
   },
   "outputs": [],
   "source": [
    "# Load encoded attribute values from the Breast Cancer dataset\n",
    "fpath = \"/tmp/DM2_attr_val_encoded.json\"\n",
    "attr_val_breast_dataset_encoded = load_json(fpath)"
   ]
  },
  {
   "cell_type": "markdown",
   "metadata": {},
   "source": [
    "We then generate sample records randomly and classify them using the parity function"
   ]
  },
  {
   "cell_type": "code",
   "execution_count": 31,
   "metadata": {
    "collapsed": false
   },
   "outputs": [],
   "source": [
    "def parity_fct(attr_values):\n",
    "    return (attr_values.count(1) % 2) == 0\n",
    "\n",
    "    \n",
    "def generate_record(attr_val_dict):\n",
    "    import random\n",
    "    \n",
    "    def add_record_class(input_record, class_fct=parity_fct):\n",
    "        attr_values = list(input_record.values())\n",
    "        output_label = class_fct(attr_values)\n",
    "        output_record = input_record\n",
    "        output_record[\"Class\"] = 1 if output_label else 0\n",
    "        return output_record\n",
    "    \n",
    "    attr_val_dict = {k : v for k, v in attr_val_dict.items() if k != \"Class\"}\n",
    "    new_record = { k : random.choice(v) for k, v in attr_val_dict.items() }\n",
    "    output_record = add_record_class(new_record)\n",
    "    return output_record\n",
    "\n",
    "def generate_dataset(generate_record, n_records):\n",
    "    import pandas as pd\n",
    "    \n",
    "    records = []\n",
    "    for i in range(n_records):\n",
    "        new_record = generate_record(attr_val_breast_dataset_encoded)\n",
    "        records.append(new_record)\n",
    "    return pd.DataFrame(records)"
   ]
  },
  {
   "cell_type": "code",
   "execution_count": 32,
   "metadata": {
    "collapsed": false
   },
   "outputs": [
    {
     "data": {
      "text/html": [
       "<div>\n",
       "<style scoped>\n",
       "    .dataframe tbody tr th:only-of-type {\n",
       "        vertical-align: middle;\n",
       "    }\n",
       "\n",
       "    .dataframe tbody tr th {\n",
       "        vertical-align: top;\n",
       "    }\n",
       "\n",
       "    .dataframe thead th {\n",
       "        text-align: right;\n",
       "    }\n",
       "</style>\n",
       "<table border=\"1\" class=\"dataframe\">\n",
       "  <thead>\n",
       "    <tr style=\"text-align: right;\">\n",
       "      <th></th>\n",
       "      <th>Class</th>\n",
       "      <th>age</th>\n",
       "      <th>breast</th>\n",
       "      <th>breast_quad</th>\n",
       "      <th>deg_malig</th>\n",
       "      <th>inv_nodes</th>\n",
       "      <th>irradiat</th>\n",
       "      <th>menopause</th>\n",
       "      <th>node_caps</th>\n",
       "      <th>tumor_size</th>\n",
       "    </tr>\n",
       "  </thead>\n",
       "  <tbody>\n",
       "    <tr>\n",
       "      <th>0</th>\n",
       "      <td>1</td>\n",
       "      <td>0</td>\n",
       "      <td>0</td>\n",
       "      <td>3</td>\n",
       "      <td>1</td>\n",
       "      <td>3</td>\n",
       "      <td>1</td>\n",
       "      <td>0</td>\n",
       "      <td>2</td>\n",
       "      <td>7</td>\n",
       "    </tr>\n",
       "    <tr>\n",
       "      <th>1</th>\n",
       "      <td>1</td>\n",
       "      <td>1</td>\n",
       "      <td>0</td>\n",
       "      <td>4</td>\n",
       "      <td>1</td>\n",
       "      <td>5</td>\n",
       "      <td>0</td>\n",
       "      <td>1</td>\n",
       "      <td>2</td>\n",
       "      <td>1</td>\n",
       "    </tr>\n",
       "    <tr>\n",
       "      <th>2</th>\n",
       "      <td>0</td>\n",
       "      <td>1</td>\n",
       "      <td>0</td>\n",
       "      <td>5</td>\n",
       "      <td>1</td>\n",
       "      <td>5</td>\n",
       "      <td>1</td>\n",
       "      <td>0</td>\n",
       "      <td>2</td>\n",
       "      <td>3</td>\n",
       "    </tr>\n",
       "    <tr>\n",
       "      <th>3</th>\n",
       "      <td>1</td>\n",
       "      <td>2</td>\n",
       "      <td>1</td>\n",
       "      <td>1</td>\n",
       "      <td>0</td>\n",
       "      <td>5</td>\n",
       "      <td>2</td>\n",
       "      <td>2</td>\n",
       "      <td>0</td>\n",
       "      <td>6</td>\n",
       "    </tr>\n",
       "    <tr>\n",
       "      <th>4</th>\n",
       "      <td>1</td>\n",
       "      <td>5</td>\n",
       "      <td>1</td>\n",
       "      <td>4</td>\n",
       "      <td>1</td>\n",
       "      <td>4</td>\n",
       "      <td>0</td>\n",
       "      <td>2</td>\n",
       "      <td>0</td>\n",
       "      <td>2</td>\n",
       "    </tr>\n",
       "  </tbody>\n",
       "</table>\n",
       "</div>"
      ],
      "text/plain": [
       "   Class  age  breast  breast_quad  deg_malig  inv_nodes  irradiat  menopause  \\\n",
       "0      1    0       0            3          1          3         1          0   \n",
       "1      1    1       0            4          1          5         0          1   \n",
       "2      0    1       0            5          1          5         1          0   \n",
       "3      1    2       1            1          0          5         2          2   \n",
       "4      1    5       1            4          1          4         0          2   \n",
       "\n",
       "   node_caps  tumor_size  \n",
       "0          2           7  \n",
       "1          2           1  \n",
       "2          2           3  \n",
       "3          0           6  \n",
       "4          0           2  "
      ]
     },
     "execution_count": 32,
     "metadata": {},
     "output_type": "execute_result"
    }
   ],
   "source": [
    "dataset_parity_fct = generate_dataset(generate_record, 1000)\n",
    "dataset_parity_fct.head()"
   ]
  },
  {
   "cell_type": "markdown",
   "metadata": {},
   "source": [
    "### Run MLP on the Parity function dataset"
   ]
  },
  {
   "cell_type": "code",
   "execution_count": 33,
   "metadata": {
    "collapsed": false
   },
   "outputs": [
    {
     "name": "stdout",
     "output_type": "stream",
     "text": [
      "[(0, 0, 3, 1, 3, 1, 0, 2, 7), (1, 0, 4, 1, 5, 0, 1, 2, 1), (1, 0, 5, 1, 5, 1, 0, 2, 3), (2, 1, 1, 0, 5, 2, 2, 0, 6), (5, 1, 4, 1, 4, 0, 2, 0, 2), (4, 1, 5, 2, 6, 0, 0, 0, 9), (5, 1, 5, 1, 6, 1, 2, 1, 2), (1, 0, 6, 2, 1, 2, 2, 0, 10), (5, 0, 0, 1, 3, 0, 1, 0, 1), (5, 0, 6, 0, 0, 1, 1, 1, 7)]\n",
      "\n",
      "[1, 1, 0, 1, 1, 0, 1, 1, 0, 0]\n"
     ]
    }
   ],
   "source": [
    "# Input data, labels\n",
    "X, y = get_nn_inputs(dataset_parity_fct)\n",
    "\n",
    "print(X[:10])\n",
    "print()\n",
    "print(y[:10])"
   ]
  },
  {
   "cell_type": "code",
   "execution_count": 34,
   "metadata": {
    "collapsed": false
   },
   "outputs": [
    {
     "name": "stderr",
     "output_type": "stream",
     "text": [
      "/home/eolus/.local/lib/python3.6/site-packages/sklearn/neural_network/multilayer_perceptron.py:564: ConvergenceWarning: Stochastic Optimizer: Maximum iterations (200) reached and the optimization hasn't converged yet.\n",
      "  % self.max_iter, ConvergenceWarning)\n",
      "/home/eolus/.local/lib/python3.6/site-packages/sklearn/neural_network/multilayer_perceptron.py:564: ConvergenceWarning: Stochastic Optimizer: Maximum iterations (200) reached and the optimization hasn't converged yet.\n",
      "  % self.max_iter, ConvergenceWarning)\n",
      "/home/eolus/.local/lib/python3.6/site-packages/sklearn/neural_network/multilayer_perceptron.py:564: ConvergenceWarning: Stochastic Optimizer: Maximum iterations (200) reached and the optimization hasn't converged yet.\n",
      "  % self.max_iter, ConvergenceWarning)\n"
     ]
    },
    {
     "name": "stdout",
     "output_type": "stream",
     "text": [
      "best params:\n",
      "{'learning_rate': 'adaptive', 'hidden_layer_sizes': (39, 45)}\n",
      "best score :\n",
      "0.519\n"
     ]
    }
   ],
   "source": [
    "from sklearn.neural_network import MLPClassifier\n",
    "clf = MLPClassifier(solver='sgd', max_iter=200) # default parameters\n",
    "\n",
    "from sklearn.model_selection import RandomizedSearchCV\n",
    "random_search = RandomizedSearchCV(\n",
    "    clf,\n",
    "    param_distributions=param_grid,\n",
    "    n_iter=30, # 30 (random) search iteration\n",
    "    n_jobs=4, # 4 parallel jobs\n",
    "    refit=True,\n",
    "    cv=10, # 10-fold cross-validation\n",
    "    verbose=0,\n",
    "    random_state=None\n",
    ")\n",
    "\n",
    "random_search.fit(X, y)\n",
    "print(\"best params:\\n{}\".format(random_search.best_params_))\n",
    "print(\"best score :\\n{}\".format(random_search.best_score_))"
   ]
  },
  {
   "cell_type": "code",
   "execution_count": null,
   "metadata": {
    "collapsed": true
   },
   "outputs": [],
   "source": []
  }
 ],
 "metadata": {
  "kernelspec": {
   "display_name": "Python 3",
   "language": "python",
   "name": "python3"
  },
  "language_info": {
   "codemirror_mode": {
    "name": "ipython",
    "version": 3
   },
   "file_extension": ".py",
   "mimetype": "text/x-python",
   "name": "python",
   "nbconvert_exporter": "python",
   "pygments_lexer": "ipython3",
   "version": "3.6.3"
  }
 },
 "nbformat": 4,
 "nbformat_minor": 2
}
