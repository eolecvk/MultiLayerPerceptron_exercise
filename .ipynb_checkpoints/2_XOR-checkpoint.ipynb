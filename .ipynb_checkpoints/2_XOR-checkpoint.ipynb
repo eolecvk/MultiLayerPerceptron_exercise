{
 "cells": [
  {
   "cell_type": "markdown",
   "metadata": {},
   "source": [
    "# DM2: \"Connexionism: backpropagation algorithm\"\n",
    "\n",
    "\n",
    "--------------------------------------------\n",
    "\n",
    "_Eole Cervenka, Nov 13th 2017_\n",
    "\n",
    "+ Python version: 3.6\n",
    "+ libraries: sklean, numpy, pandas\n",
    "+ dependencies:\n",
    "\n",
    "    + `Eole_Cervenka_DM2_preparation.ipynb`\n",
    "    + `Eole_Cervenka_DM2_exploration.ipynb`\n",
    "    + `Eole_Cervenka_DM2_MLP.ipynb`\n",
    "        \n",
    "+ Data:\n",
    "    + `DM2_attr_val_encoded.json` (cf section I --\"Breast cancer data\")\n",
    "\n",
    "--------------------------------------------\n",
    "\n",
    "## XOR dataset\n",
    "\n",
    "We are tasked with generating a XOR dataset that mimics the breast_cancer data.  \n",
    "\n",
    "_\"An XOR gate implements an exclusive or; that is, a true output results if one, and only one, of the inputs to the gate is true\"_ ([Wikipedia](https://en.wikipedia.org/wiki/XOR_gate))\n",
    "\n",
    "We will see both the case of XOR taking two input attributes and that of XOR taking an arbitrary number of attribute superior to 2.\n",
    "\n",
    "I have implemented a general function to generate a random dataset using the attributes from the original dataset, classified according to the XOR function.\n",
    "\n",
    "I choose two attributes, say `age` and `menopause`.  \n",
    "For each attribute we choose a single possible value, conveniently we can use the encoded value `1`for both attributes. We put that the label of a given record is positive (_ie_ encoded label value equals to `1`) if and only if a single of the attribute value equals `1`, the chosen value for each attribute."
   ]
  },
  {
   "cell_type": "markdown",
   "metadata": {},
   "source": [
    "### Load helper functions"
   ]
  },
  {
   "cell_type": "code",
   "execution_count": 3,
   "metadata": {
    "collapsed": true
   },
   "outputs": [],
   "source": [
    "%run utils/helper_functions.ipynb"
   ]
  },
  {
   "cell_type": "code",
   "execution_count": 4,
   "metadata": {
    "collapsed": true
   },
   "outputs": [],
   "source": [
    "%run utils/preparation.ipynb"
   ]
  },
  {
   "cell_type": "code",
   "execution_count": 5,
   "metadata": {
    "collapsed": true
   },
   "outputs": [],
   "source": [
    "%run utils/exploration.ipynb"
   ]
  },
  {
   "cell_type": "code",
   "execution_count": 6,
   "metadata": {
    "collapsed": true
   },
   "outputs": [],
   "source": [
    "%run utils/MLP_utils.ipynb"
   ]
  },
  {
   "cell_type": "markdown",
   "metadata": {},
   "source": [
    "### Generate XOR dataset"
   ]
  },
  {
   "cell_type": "code",
   "execution_count": 7,
   "metadata": {
    "collapsed": false
   },
   "outputs": [
    {
     "data": {
      "text/html": [
       "<div>\n",
       "<style scoped>\n",
       "    .dataframe tbody tr th:only-of-type {\n",
       "        vertical-align: middle;\n",
       "    }\n",
       "\n",
       "    .dataframe tbody tr th {\n",
       "        vertical-align: top;\n",
       "    }\n",
       "\n",
       "    .dataframe thead th {\n",
       "        text-align: right;\n",
       "    }\n",
       "</style>\n",
       "<table border=\"1\" class=\"dataframe\">\n",
       "  <thead>\n",
       "    <tr style=\"text-align: right;\">\n",
       "      <th></th>\n",
       "      <th>Class</th>\n",
       "      <th>deg_malig</th>\n",
       "      <th>inv_nodes</th>\n",
       "    </tr>\n",
       "  </thead>\n",
       "  <tbody>\n",
       "    <tr>\n",
       "      <th>0</th>\n",
       "      <td>1</td>\n",
       "      <td>1</td>\n",
       "      <td>1</td>\n",
       "    </tr>\n",
       "    <tr>\n",
       "      <th>1</th>\n",
       "      <td>0</td>\n",
       "      <td>1</td>\n",
       "      <td>2</td>\n",
       "    </tr>\n",
       "    <tr>\n",
       "      <th>2</th>\n",
       "      <td>1</td>\n",
       "      <td>1</td>\n",
       "      <td>1</td>\n",
       "    </tr>\n",
       "    <tr>\n",
       "      <th>3</th>\n",
       "      <td>1</td>\n",
       "      <td>2</td>\n",
       "      <td>5</td>\n",
       "    </tr>\n",
       "    <tr>\n",
       "      <th>4</th>\n",
       "      <td>1</td>\n",
       "      <td>1</td>\n",
       "      <td>1</td>\n",
       "    </tr>\n",
       "  </tbody>\n",
       "</table>\n",
       "</div>"
      ],
      "text/plain": [
       "   Class  deg_malig  inv_nodes\n",
       "0      1          1          1\n",
       "1      0          1          2\n",
       "2      1          1          1\n",
       "3      1          2          5\n",
       "4      1          1          1"
      ]
     },
     "execution_count": 7,
     "metadata": {},
     "output_type": "execute_result"
    }
   ],
   "source": [
    "# Load encoded attribute values from the Breast Cancer dataset\n",
    "fpath = \"/tmp/DM2_attr_val_encoded.json\"\n",
    "attr_val_breast_dataset_encoded = load_json(fpath)\n",
    "\n",
    "# Generate XOR dataset based on encoded data for attributes similar to 'age' and 'menopause'\n",
    "XOR_df = generate_XOR_dataset(\n",
    "    n_examples=1000,\n",
    "    n_attributes=2,\n",
    "    no_duplicate=False,\n",
    "    attr_dict=attr_val_breast_dataset_encoded)\n",
    "    \n",
    "XOR_df.head()"
   ]
  },
  {
   "cell_type": "markdown",
   "metadata": {},
   "source": [
    "### Run MLP on XOR dataset"
   ]
  },
  {
   "cell_type": "code",
   "execution_count": 9,
   "metadata": {
    "collapsed": false
   },
   "outputs": [],
   "source": [
    "from sklearn.pipeline import Pipeline\n",
    "from sklearn.preprocessing import StandardScaler\n",
    "from sklearn.neural_network import MLPClassifier\n",
    "from sklearn.model_selection import RandomizedSearchCV\n",
    "\n",
    "X, y = get_nn_inputs(XOR_df)\n",
    "\n",
    "steps = [\n",
    "    ('scaler', StandardScaler()), # data scaling\n",
    "    ('clf', MLPClassifier()) # Multilayer Perceptron\n",
    "]\n",
    "\n",
    "pipeline = Pipeline(steps)\n",
    "\n",
    "param_grid = get_param_grid(max_layers=2,\n",
    "                            max_neurons=2)\n",
    "\n",
    "random_search = RandomizedSearchCV(\n",
    "    pipeline,\n",
    "    param_distributions=param_grid,\n",
    "    n_iter=500, # 30 (random) search iteration\n",
    "    n_jobs=8, # 4 parallel jobs\n",
    "    refit=True,\n",
    "    cv=10, # 10-fold cross-validation\n",
    "    verbose=0,\n",
    "    random_state=None\n",
    ")\n",
    "\n",
    "random_search.fit(X, y)"
   ]
  },
  {
   "cell_type": "code",
   "execution_count": 19,
   "metadata": {
    "collapsed": false
   },
   "outputs": [
    {
     "name": "stdout",
     "output_type": "stream",
     "text": [
      "best params [score=0.836]:\n",
      "{\n",
      "  \"activation\": \"logistic\",\n",
      "  \"alpha\": 0.0003938775510204082,\n",
      "  \"hidden_layer_sizes\": [\n",
      "    2\n",
      "  ],\n",
      "  \"learning_rate\": \"invscaling\",\n",
      "  \"learning_rate_init\": 0.00959591836734694,\n",
      "  \"max_iter\": 1000,\n",
      "  \"momentum\": 0.6,\n",
      "  \"solver\": \"lbfgs\"\n",
      "}\n"
     ]
    }
   ],
   "source": [
    "best_params_pipeline = random_search.best_params_\n",
    "best_score_pipeline = random_search.best_score_\n",
    "\n",
    "clf_args = {\n",
    "    'activation' : best_params_pipeline['clf__activation'],\n",
    "    'alpha' : best_params_pipeline['clf__alpha'],\n",
    "    'hidden_layer_sizes' : best_params_pipeline['clf__hidden_layer_sizes'],\n",
    "    'learning_rate' : best_params_pipeline['clf__learning_rate'],\n",
    "    'learning_rate_init' : best_params_pipeline['clf__learning_rate_init'],\n",
    "    'max_iter' : best_params_pipeline['clf__max_iter'],\n",
    "    'max_iter' : best_params_pipeline['clf__max_iter'],\n",
    "    'momentum' : best_params_pipeline['clf__momentum'],\n",
    "    'solver' : best_params_pipeline['clf__solver']\n",
    "}\n",
    "\n",
    "print(\"best params [score={}]:\".format(best_score_pipeline))\n",
    "pprint(clf_args)"
   ]
  },
  {
   "cell_type": "code",
   "execution_count": 20,
   "metadata": {
    "collapsed": false
   },
   "outputs": [
    {
     "data": {
      "image/png": "[encoded data removed]",
      "text/plain": [
       "<matplotlib.figure.Figure at 0x7f504c76bcf8>"
      ]
     },
     "metadata": {},
     "output_type": "display_data"
    }
   ],
   "source": [
    "from sklearn.neural_network import MLPClassifier\n",
    "from sklearn.model_selection import learning_curve\n",
    "from sklearn.model_selection import KFold\n",
    "\n",
    "cv = KFold(n_splits=10, shuffle=False, random_state=None)\n",
    "estimator = estimator = MLPClassifier(**clf_args)\n",
    "title = \"Learning Curves MLP on XOR\"\n",
    "\n",
    "plot_learning_curve(estimator, title, X, y, ylim=(0.5, 1.01), cv=cv, n_jobs=4)\n",
    "plt.show()"
   ]
  }
 ],
 "metadata": {
  "kernelspec": {
   "display_name": "Python 3",
   "language": "python",
   "name": "python3"
  },
  "language_info": {
   "codemirror_mode": {
    "name": "ipython",
    "version": 3
   },
   "file_extension": ".py",
   "mimetype": "text/x-python",
   "name": "python",
   "nbconvert_exporter": "python",
   "pygments_lexer": "ipython3",
   "version": "3.6.3"
  }
 },
 "nbformat": 4,
 "nbformat_minor": 2
}
