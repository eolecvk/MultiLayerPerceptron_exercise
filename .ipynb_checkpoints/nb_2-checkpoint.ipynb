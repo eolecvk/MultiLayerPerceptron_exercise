{
 "cells": [
  {
   "cell_type": "markdown",
   "metadata": {},
   "source": [
    "# DM2: \"Connexionism: backpropagation algorithm\"\n",
    "\n",
    "_Eole Cervenka, Nov 13th 2017_\n",
    "\n",
    "+ Python version: 3.6\n",
    "+ libraries: sklean, numpy, pandas\n",
    "+ dependencies:\n",
    "\n",
    "    + `Eole_Cervenka_DM2_preparation.ipynb`\n",
    "    + `Eole_Cervenka_DM2_exploration.ipynb`\n",
    "    + `Eole_Cervenka_DM2_MLP.ipynb`\n",
    "        \n",
    "+ Data:\n",
    "    + `DM2_attr_val_encoded.json` (cf section I --\"Breast cancer data\")\n",
    "\n",
    "-------------------------------------------------\n",
    "## XOR dataset\n",
    "\n",
    "We are tasked with generating a XOR dataset that mimics the breast_cancer data.  \n",
    "\n",
    "_\"An XOR gate implements an exclusive or; that is, a true output results if one, and only one, of the inputs to the gate is true\"_ ([Wikipedia](https://en.wikipedia.org/wiki/XOR_gate))\n",
    "\n",
    "**We assume that we want to generate a dataset for a function that takes two inputs and returns a boolean output.**\n",
    "\n",
    "There exists interpretation of [XOR function with more than 2 inputs](https://en.wikipedia.org/wiki/XOR_gate#More_than_two_inputs).\n",
    "\n",
    "However, we can process the first two inputs with a regular XOR function and _\"regard subsequent inputs as being applied through a cascade of binary exclusive-or operations: the first two signals are fed into an XOR gate, then the output of that gate is fed into a second XOR gate together with the third signal, and so on for any remaining signals. The result is a circuit that outputs a 1 when the number of 1s at its inputs is odd, and a 0 when the number of incoming 1s is even. This makes it practically useful as a parity generator or a modulo-2 adder\"_ (source: wikipedia). We will have a closer look at this generalized scenario in the next section.\n",
    "\n",
    "Therefore, we choose two attributes, say `age` and `menopause`.  \n",
    "For each attribute we choose a single possible value, conveniently we can use the encoded value `1`for both attributes. We put that the label of a given record is positive (_ie_ encoded label value equals to `1`) if and only if a single of the attribute value equals `1`, the chosen value for each attribute."
   ]
  },
  {
   "cell_type": "markdown",
   "metadata": {},
   "source": [
    "### Load helper functions"
   ]
  },
  {
   "cell_type": "code",
   "execution_count": 2,
   "metadata": {
    "collapsed": true
   },
   "outputs": [],
   "source": [
    "%run utils/preparation.ipynb"
   ]
  },
  {
   "cell_type": "code",
   "execution_count": 3,
   "metadata": {
    "collapsed": true
   },
   "outputs": [],
   "source": [
    "%run utils/exploration.ipynb"
   ]
  },
  {
   "cell_type": "code",
   "execution_count": 1,
   "metadata": {
    "collapsed": true
   },
   "outputs": [],
   "source": [
    "%run utils/MLP_utils.ipynb"
   ]
  },
  {
   "cell_type": "markdown",
   "metadata": {},
   "source": [
    "### Generate XOR dataset"
   ]
  },
  {
   "cell_type": "code",
   "execution_count": null,
   "metadata": {
    "collapsed": false
   },
   "outputs": [],
   "source": [
    "import random\n",
    "\n",
    "def generate_positive_XOR(\n",
    "    attr_val,\n",
    "    attr_keep = ['age', 'menopause'] ):\n",
    "    \"\"\"\n",
    "    Given an attribute dictionnary\n",
    "    \"\"\"\n",
    "    \n",
    "    neg_attr = random.choice(attr_keep) # choose the neg attribute randomly\n",
    "    pos_attr = attributes[0] if neg_attr == attr_keep[1] else attr_keep[1]\n",
    "    neg_attr_values = [v for v in attr_val[neg_attr] if v != 1] # list its possible val\n",
    "    neg_attr_value_actual = random.choice(neg_attr_values) # pick a random possible negative val\n",
    "    \n",
    "    new_record = {\n",
    "            pos_attr : 1,\n",
    "            neg_attr : neg_attr_value_actual,\n",
    "            'Class' : 1\n",
    "        }\n",
    "    \n",
    "    return new_record\n",
    "\n",
    "    \n",
    "def generate_negative_XOR(\n",
    "    attr_val,\n",
    "    attr_keep = ['age', 'menopause'] ):\n",
    "    \n",
    "    if random.choice([1, 0]):\n",
    "        \n",
    "        new_rec = {\n",
    "            attr_keep[0] : 1,\n",
    "            attr_keep[1] : 1,\n",
    "            'Class' : 0\n",
    "        }\n",
    "    else:\n",
    "        neg_attr_values_0 = [v for v in attr_val[attr_keep[0]] if v != 1]\n",
    "        neg_attr_value_actual_0 = random.choice(neg_attr_values_0)\n",
    "        \n",
    "        neg_attr_values_1 = [v for v in attr_val[attr_keep[1]] if v != 1]\n",
    "        neg_attr_value_actual_1 = random.choice(neg_attr_values_1)\n",
    "        \n",
    "        new_rec = {\n",
    "            attr_keep[0] : neg_attr_value_actual_0,\n",
    "            attr_keep[1] : neg_attr_value_actual_1,\n",
    "            'Class' : 0\n",
    "        }\n",
    "    return new_rec\n",
    "\n",
    "\n",
    "def generate_dataset_XOR(attr_val,\n",
    "                         neg_count=2000,\n",
    "                         pos_count=1000):\n",
    "    import pandas as pd\n",
    "    \n",
    "    records = []\n",
    "    for i in range(neg_count):\n",
    "        records.append(generate_negative_XOR(attr_val))\n",
    "    for j in range(pos_count):\n",
    "        records.append(generate_negative_XOR(attr_val))\n",
    "        \n",
    "    dataset = pd.DataFrame(records)\n",
    "    dataset_shuffled = dataset.sample(frac=1)\n",
    "    \n",
    "    return dataset_shuffled"
   ]
  },
  {
   "cell_type": "code",
   "execution_count": null,
   "metadata": {
    "collapsed": false
   },
   "outputs": [],
   "source": [
    "# Load encoded attribute values from the Breast Cancer dataset\n",
    "fpath = \"/tmp/DM2_attr_val_encoded.json\"\n",
    "attr_val_breast_dataset_encoded = load_json(fpath)\n",
    "\n",
    "# Generate XOR dataset based on encoded data for attributes similar to 'age' and 'menopause'\n",
    "XOR_df = generate_dataset_XOR(attr_val_breast_dataset_encoded)\n",
    "XOR_df.head()"
   ]
  },
  {
   "cell_type": "markdown",
   "metadata": {},
   "source": [
    "### Run MLP on XOR dataset"
   ]
  },
  {
   "cell_type": "code",
   "execution_count": null,
   "metadata": {
    "collapsed": false
   },
   "outputs": [],
   "source": [
    "# matrix input X and label vector y\n",
    "X, y = get_nn_inputs(XOR_df)\n",
    "\n",
    "# Preview \n",
    "print(X[:10])\n",
    "print()\n",
    "print(y[:10])"
   ]
  },
  {
   "cell_type": "code",
   "execution_count": null,
   "metadata": {
    "collapsed": false
   },
   "outputs": [],
   "source": [
    "from sklearn.neural_network import MLPClassifier\n",
    "clf = MLPClassifier(solver='sgd', max_iter=600) # default parameters\n",
    "\n",
    "from sklearn.model_selection import RandomizedSearchCV\n",
    "random_search = RandomizedSearchCV(\n",
    "    clf,\n",
    "    param_distributions=param_grid,\n",
    "    n_iter=30, # 30 (random) search iteration\n",
    "    n_jobs=4, # 4 parallel jobs\n",
    "    refit=True,\n",
    "    cv=10, # 10-fold cross-validation\n",
    "    verbose=0,\n",
    "    random_state=None\n",
    ")\n",
    "\n",
    "random_search.fit(X, y)\n",
    "print(\"best params:\\n{}\".format(random_search.best_params_))\n",
    "print(\"best score :\\n{}\".format(random_search.best_score_))"
   ]
  },
  {
   "cell_type": "code",
   "execution_count": null,
   "metadata": {
    "collapsed": true
   },
   "outputs": [],
   "source": [
    "from sklearn.model_selection import learning_curve\n",
    "from sklearn.model_selection import ShuffleSplit\n",
    "\n",
    "cv = ShuffleSplit(n_splits=100, test_size=0.2, random_state=0)\n",
    "estimator = clf\n",
    "title = \"Learning Curves MLP on XOR\"\n",
    "\n",
    "plot_learning_curve(estimator, title, X, y, ylim=(0.5, 1.01), cv=cv, n_jobs=4)\n",
    "plt.show()"
   ]
  },
  {
   "cell_type": "code",
   "execution_count": null,
   "metadata": {
    "collapsed": true
   },
   "outputs": [],
   "source": []
  }
 ],
 "metadata": {
  "kernelspec": {
   "display_name": "Python 3",
   "language": "python",
   "name": "python3"
  },
  "language_info": {
   "codemirror_mode": {
    "name": "ipython",
    "version": 3
   },
   "file_extension": ".py",
   "mimetype": "text/x-python",
   "name": "python",
   "nbconvert_exporter": "python",
   "pygments_lexer": "ipython3",
   "version": "3.6.3"
  }
 },
 "nbformat": 4,
 "nbformat_minor": 2
}
