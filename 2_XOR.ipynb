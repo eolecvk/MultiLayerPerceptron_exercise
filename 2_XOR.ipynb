{
 "cells": [
  {
   "cell_type": "markdown",
   "metadata": {},
   "source": [
    "# DM2: \"Connexionism: backpropagation algorithm\"\n",
    "\n",
    "\n",
    "--------------------------------------------\n",
    "\n",
    "_Eole Cervenka, Nov 13th 2017_\n",
    "\n",
    "+ Python version: 3.6\n",
    "+ libraries: sklean, numpy, pandas\n",
    "+ dependencies:\n",
    "\n",
    "    + `Eole_Cervenka_DM2_preparation.ipynb`\n",
    "    + `Eole_Cervenka_DM2_exploration.ipynb`\n",
    "    + `Eole_Cervenka_DM2_MLP.ipynb`\n",
    "        \n",
    "+ Data:\n",
    "    + `DM2_attr_val_encoded.json` (cf section I --\"Breast cancer data\")\n",
    "\n",
    "--------------------------------------------\n",
    "\n",
    "## XOR dataset\n",
    "\n",
    "We are tasked with generating a XOR dataset that mimics the breast_cancer data.  \n",
    "\n",
    "_\"An XOR gate implements an exclusive or; that is, a true output results if one, and only one, of the inputs to the gate is true\"_ ([Wikipedia](https://en.wikipedia.org/wiki/XOR_gate))\n",
    "\n",
    "We will see both the case of XOR taking two input attributes and that of XOR taking an arbitrary number of attribute superior to 2.\n",
    "\n",
    "I have implemented a general function to generate a random dataset using the attributes from the original dataset, classified according to the XOR function.\n",
    "\n",
    "I choose two attributes, say `age` and `menopause`.  \n",
    "For each attribute we choose a single possible value, conveniently we can use the encoded value `1`for both attributes. We put that the label of a given record is positive (_ie_ encoded label value equals to `1`) if and only if a single of the attribute value equals `1`, the chosen value for each attribute."
   ]
  },
  {
   "cell_type": "markdown",
   "metadata": {},
   "source": [
    "### Load helper functions"
   ]
  },
  {
   "cell_type": "code",
   "execution_count": 1,
   "metadata": {
    "collapsed": true
   },
   "outputs": [],
   "source": [
    "%run utils/helper_functions.ipynb"
   ]
  },
  {
   "cell_type": "code",
   "execution_count": 2,
   "metadata": {
    "collapsed": true
   },
   "outputs": [],
   "source": [
    "%run utils/preparation.ipynb"
   ]
  },
  {
   "cell_type": "code",
   "execution_count": 3,
   "metadata": {
    "collapsed": true
   },
   "outputs": [],
   "source": [
    "%run utils/exploration.ipynb"
   ]
  },
  {
   "cell_type": "code",
   "execution_count": 4,
   "metadata": {
    "collapsed": true
   },
   "outputs": [],
   "source": [
    "%run utils/MLP_utils.ipynb"
   ]
  },
  {
   "cell_type": "markdown",
   "metadata": {},
   "source": [
    "### Generate XOR dataset"
   ]
  },
  {
   "cell_type": "code",
   "execution_count": 5,
   "metadata": {
    "collapsed": false
   },
   "outputs": [
    {
     "name": "stdout",
     "output_type": "stream",
     "text": [
      "Dataset size: 1000\n"
     ]
    },
    {
     "data": {
      "text/html": [
       "<div>\n",
       "<style scoped>\n",
       "    .dataframe tbody tr th:only-of-type {\n",
       "        vertical-align: middle;\n",
       "    }\n",
       "\n",
       "    .dataframe tbody tr th {\n",
       "        vertical-align: top;\n",
       "    }\n",
       "\n",
       "    .dataframe thead th {\n",
       "        text-align: right;\n",
       "    }\n",
       "</style>\n",
       "<table border=\"1\" class=\"dataframe\">\n",
       "  <thead>\n",
       "    <tr style=\"text-align: right;\">\n",
       "      <th></th>\n",
       "      <th>Class</th>\n",
       "      <th>breast_quad</th>\n",
       "      <th>node_caps</th>\n",
       "    </tr>\n",
       "  </thead>\n",
       "  <tbody>\n",
       "    <tr>\n",
       "      <th>0</th>\n",
       "      <td>1</td>\n",
       "      <td>1</td>\n",
       "      <td>1</td>\n",
       "    </tr>\n",
       "    <tr>\n",
       "      <th>1</th>\n",
       "      <td>0</td>\n",
       "      <td>1</td>\n",
       "      <td>0</td>\n",
       "    </tr>\n",
       "    <tr>\n",
       "      <th>2</th>\n",
       "      <td>1</td>\n",
       "      <td>1</td>\n",
       "      <td>1</td>\n",
       "    </tr>\n",
       "    <tr>\n",
       "      <th>3</th>\n",
       "      <td>1</td>\n",
       "      <td>1</td>\n",
       "      <td>1</td>\n",
       "    </tr>\n",
       "    <tr>\n",
       "      <th>4</th>\n",
       "      <td>0</td>\n",
       "      <td>0</td>\n",
       "      <td>1</td>\n",
       "    </tr>\n",
       "  </tbody>\n",
       "</table>\n",
       "</div>"
      ],
      "text/plain": [
       "   Class  breast_quad  node_caps\n",
       "0      1            1          1\n",
       "1      0            1          0\n",
       "2      1            1          1\n",
       "3      1            1          1\n",
       "4      0            0          1"
      ]
     },
     "execution_count": 5,
     "metadata": {},
     "output_type": "execute_result"
    }
   ],
   "source": [
    "# Load encoded attribute values from the Breast Cancer dataset\n",
    "fpath = \"/tmp/DM2_attr_val_encoded.json\"\n",
    "attr_val_breast_dataset_encoded = load_json(fpath)\n",
    "\n",
    "# Generate XOR dataset based on encoded data for attributes similar to 'age' and 'menopause'\n",
    "XOR_df = generate_XOR_dataset(\n",
    "    n_examples=1000,\n",
    "    n_attributes=2,\n",
    "    no_duplicate=False,\n",
    "    attr_dict=attr_val_breast_dataset_encoded)\n",
    "    \n",
    "XOR_df.head()"
   ]
  },
  {
   "cell_type": "markdown",
   "metadata": {},
   "source": [
    "### Run MLP on XOR dataset"
   ]
  },
  {
   "cell_type": "code",
   "execution_count": 6,
   "metadata": {
    "collapsed": false
   },
   "outputs": [
    {
     "name": "stdout",
     "output_type": "stream",
     "text": [
      "best params [score=0.952]:\n",
      "{\n",
      "  \"activation\": \"tanh\",\n",
      "  \"alpha\": 0.0077573469387755105,\n",
      "  \"hidden_layer_sizes\": [\n",
      "    3\n",
      "  ],\n",
      "  \"learning_rate\": \"constant\",\n",
      "  \"learning_rate_init\": 0.004140816326530613,\n",
      "  \"max_iter\": 1600,\n",
      "  \"momentum\": 0.6,\n",
      "  \"solver\": \"lbfgs\"\n",
      "}\n"
     ]
    }
   ],
   "source": [
    "from sklearn.pipeline import Pipeline\n",
    "from sklearn.preprocessing import StandardScaler\n",
    "from sklearn.neural_network import MLPClassifier\n",
    "from sklearn.model_selection import RandomizedSearchCV\n",
    "\n",
    "X, y = get_nn_inputs(XOR_df)\n",
    "\n",
    "steps = [\n",
    "    ('scaler', StandardScaler()), # data scaling\n",
    "    ('clf', MLPClassifier()) # Multilayer Perceptron\n",
    "]\n",
    "\n",
    "pipeline = Pipeline(steps)\n",
    "\n",
    "param_grid = get_param_grid(max_layers=1,\n",
    "                            max_neurons=3)\n",
    "\n",
    "random_search = RandomizedSearchCV(\n",
    "    pipeline,\n",
    "    param_distributions=param_grid,\n",
    "    n_iter=400, # search iteration\n",
    "    n_jobs=8, # parallel jobs\n",
    "    refit=True,\n",
    "    cv=10, # 10-fold cross-validation\n",
    "    verbose=0,\n",
    "    random_state=None\n",
    ")\n",
    "\n",
    "best_model = random_search.fit(X, y)\n",
    "\n",
    "pprint_best_model(random_search)"
   ]
  },
  {
   "cell_type": "code",
   "execution_count": null,
   "metadata": {
    "collapsed": true
   },
   "outputs": [],
   "source": []
  }
 ],
 "metadata": {
  "kernelspec": {
   "display_name": "Python 3",
   "language": "python",
   "name": "python3"
  },
  "language_info": {
   "codemirror_mode": {
    "name": "ipython",
    "version": 3
   },
   "file_extension": ".py",
   "mimetype": "text/x-python",
   "name": "python",
   "nbconvert_exporter": "python",
   "pygments_lexer": "ipython3",
   "version": "3.6.3"
  }
 },
 "nbformat": 4,
 "nbformat_minor": 2
}
